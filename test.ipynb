{
 "cells": [
  {
   "cell_type": "code",
   "execution_count": 1,
   "metadata": {},
   "outputs": [],
   "source": [
    "import pandas as pd\n",
    "import matplotlib.pyplot as plt\n",
    "import numpy as np\n",
    "import src.BPS_SFH as BPS_SFH"
   ]
  },
  {
   "cell_type": "code",
   "execution_count": 2,
   "metadata": {},
   "outputs": [],
   "source": [
    "msp_data_list = []  # List to hold all MSP data rows\n",
    "\n",
    "msp = 0\n",
    "with open('evolution_data_SSP.txt', 'r') as file:\n",
    "    for line in file:\n",
    "        # Split line into entries\n",
    "        entries = line.strip().split(',')\n",
    "        \n",
    "        # Check if this line indicates a new MSP\n",
    "        if len(entries) == 2:\n",
    "            # Save B and i for the current MSP\n",
    "            current_B = float(entries[0])\n",
    "            current_i = float(entries[1])\n",
    "            msp += 1\n",
    "        elif len(entries) == 7:\n",
    "            # Create a flat dictionary for the time step and append it to the list\n",
    "            time_step_data = {\n",
    "                'num' : msp,\n",
    "                'B': current_B,\n",
    "                'i': current_i,\n",
    "                'time': float(entries[0]),\n",
    "                'period': float(entries[1]),\n",
    "                'period_derivative': float(entries[2]),\n",
    "                'ns_mass': float(entries[3]),\n",
    "                'secondary_mass': float(entries[4]),\n",
    "                'secondary_type': entries[5],\n",
    "                'orbital_separation': float(entries[6])\n",
    "            }\n",
    "            msp_data_list.append(time_step_data)\n",
    "msp_df = pd.DataFrame(msp_data_list)"
   ]
  },
  {
   "cell_type": "code",
   "execution_count": 3,
   "metadata": {},
   "outputs": [
    {
     "data": {
      "text/plain": [
       "1391"
      ]
     },
     "execution_count": 3,
     "metadata": {},
     "output_type": "execute_result"
    }
   ],
   "source": [
    "len(msp_df.B.unique())"
   ]
  },
  {
   "cell_type": "code",
   "execution_count": 4,
   "metadata": {},
   "outputs": [
    {
     "data": {
      "text/plain": [
       "array([   1,    2,    3, ..., 9192, 9193, 9194])"
      ]
     },
     "execution_count": 4,
     "metadata": {},
     "output_type": "execute_result"
    }
   ],
   "source": [
    "msp_df.num.unique()"
   ]
  },
  {
   "cell_type": "code",
   "execution_count": 37,
   "metadata": {},
   "outputs": [
    {
     "data": {
      "text/plain": [
       "Text(0, 0.5, 'SFR')"
      ]
     },
     "execution_count": 37,
     "metadata": {},
     "output_type": "execute_result"
    },
    {
     "data": {
      "image/png": "[encoded data removed]",
      "text/plain": [
       "<Figure size 640x480 with 1 Axes>"
      ]
     },
     "metadata": {},
     "output_type": "display_data"
    }
   ],
   "source": [
    "# x = BPS_SFH.sample_birth_times(dt=1e5, t_end=14e9, M_sim=2e9, length=1000*len(msp_df.num.unique()), bulge_or_disk='Bulge')\n",
    "x = BPS_SFH.calculate_star_formation_rate(dt=1e3, t_end=14e9, bulge_or_disk='Bulge')\n",
    "plt.hist(x, bins=100);\n",
    "plt.xlabel('Time [Gyr]')\n",
    "plt.ylabel('SFR')"
   ]
  },
  {
   "cell_type": "code",
   "execution_count": null,
   "metadata": {},
   "outputs": [],
   "source": []
  },
  {
   "cell_type": "code",
   "execution_count": 139,
   "metadata": {},
   "outputs": [
    {
     "data": {
      "text/plain": [
       "array([ 1.31497,  0.96623,  0.46224, ...,  0.84332,  0.5265 ,  0.22862])"
      ]
     },
     "execution_count": 139,
     "metadata": {},
     "output_type": "execute_result"
    }
   ],
   "source": [
    "choices = np.random.choice(x/1e9, len(msp_df.num.unique()))\n",
    "choices"
   ]
  },
  {
   "cell_type": "code",
   "execution_count": 140,
   "metadata": {},
   "outputs": [],
   "source": [
    "msp_df2 = msp_df.copy()\n",
    "\n",
    "for i in range(1, len(msp_df.num.unique())+1):\n",
    "    msp_df2.loc[msp_df2.num == i, 'time'] += round(choices[i-1], 3)"
   ]
  },
  {
   "cell_type": "code",
   "execution_count": 141,
   "metadata": {},
   "outputs": [],
   "source": [
    "msp_df2 = msp_df2.query('time < 14')"
   ]
  },
  {
   "cell_type": "code",
   "execution_count": 148,
   "metadata": {},
   "outputs": [
    {
     "data": {
      "text/plain": [
       "(0.0, 1000000000.0)"
      ]
     },
     "execution_count": 148,
     "metadata": {},
     "output_type": "execute_result"
    },
    {
     "data": {
      "image/png": "[encoded data removed]",
      "text/plain": [
       "<Figure size 640x480 with 1 Axes>"
      ]
     },
     "metadata": {},
     "output_type": "display_data"
    }
   ],
   "source": [
    "# plt.hist(msp_df2.time, bins=100, log=True);\n",
    "hist = np.histogram(msp_df2.time, bins=100)\n",
    "plt.plot(hist[1][:-1], hist[0], 'o-')\n",
    "plt.yscale('log')\n",
    "plt.xlim(0,1e9)"
   ]
  },
  {
   "cell_type": "code",
   "execution_count": 143,
   "metadata": {},
   "outputs": [],
   "source": [
    "msp_df2['time'] = msp_df2['time']*1e9"
   ]
  },
  {
   "cell_type": "code",
   "execution_count": 144,
   "metadata": {},
   "outputs": [],
   "source": [
    "msp_df2.to_csv('evolution_data_SSP_2.txt', index=False, float_format='%.3e')"
   ]
  },
  {
   "cell_type": "code",
   "execution_count": 137,
   "metadata": {},
   "outputs": [],
   "source": []
  },
  {
   "cell_type": "code",
   "execution_count": 40,
   "metadata": {},
   "outputs": [
    {
     "ename": "TypeError",
     "evalue": "[(Unit(\"redshift\"), Unit(\"km / (Mpc s)\"), <function redshift_hubble.<locals>.z_to_hubble at 0x309f24a40>, <function redshift_hubble.<locals>.hubble_to_z at 0x309f24180>), (Unit(\"redshift\"), Unit(\"littleh\"), <function redshift_hubble.<locals>.z_to_littleh at 0x309f24cc0>, <function redshift_hubble.<locals>.littleh_to_z at 0x309f24fe0>), (Unit(\"redshift\"), Unit(\"K\"), <function redshift_temperature.<locals>.z_to_Tcmb at 0x309f24d60>, <function redshift_temperature.<locals>.Tcmb_to_z at 0x309f25120>), (Unit(\"redshift\"), Unit(\"Mpc\"), <function redshift_distance.<locals>.z_to_distance at 0x309f25580>, <function redshift_distance.<locals>.distance_to_z at 0x309f25620>)] can not be converted to a Unit",
     "output_type": "error",
     "traceback": [
      "\u001b[0;31m---------------------------------------------------------------------------\u001b[0m",
      "\u001b[0;31mTypeError\u001b[0m                                 Traceback (most recent call last)",
      "\u001b[1;32m/Users/anujgautam/Documents/Binary-Evolution/test.ipynb Cell 14\u001b[0m line \u001b[0;36m5\n\u001b[1;32m      <a href='vscode-notebook-cell:/Users/anujgautam/Documents/Binary-Evolution/test.ipynb#X30sZmlsZQ%3D%3D?line=2'>3</a>\u001b[0m \u001b[39mfrom\u001b[39;00m \u001b[39mastropy\u001b[39;00m\u001b[39m.\u001b[39;00m\u001b[39mcosmology\u001b[39;00m \u001b[39mimport\u001b[39;00m WMAP9\n\u001b[1;32m      <a href='vscode-notebook-cell:/Users/anujgautam/Documents/Binary-Evolution/test.ipynb#X30sZmlsZQ%3D%3D?line=3'>4</a>\u001b[0m z \u001b[39m=\u001b[39m \u001b[39m1100\u001b[39m \u001b[39m*\u001b[39m cu\u001b[39m.\u001b[39mredshift\n\u001b[0;32m----> <a href='vscode-notebook-cell:/Users/anujgautam/Documents/Binary-Evolution/test.ipynb#X30sZmlsZQ%3D%3D?line=4'>5</a>\u001b[0m z\u001b[39m.\u001b[39;49mto(cu\u001b[39m.\u001b[39;49mwith_redshift(WMAP9), u\u001b[39m.\u001b[39;49myear)\n",
      "File \u001b[0;32m~/.pyenv/versions/3.11.4/lib/python3.11/site-packages/astropy/units/quantity.py:934\u001b[0m, in \u001b[0;36mQuantity.to\u001b[0;34m(self, unit, equivalencies, copy)\u001b[0m\n\u001b[1;32m    906\u001b[0m \u001b[39m\u001b[39m\u001b[39m\"\"\"\u001b[39;00m\n\u001b[1;32m    907\u001b[0m \u001b[39mReturn a new `~astropy.units.Quantity` object with the specified unit.\u001b[39;00m\n\u001b[1;32m    908\u001b[0m \n\u001b[0;32m   (...)\u001b[0m\n\u001b[1;32m    930\u001b[0m \u001b[39mto_value : get the numerical value in a given unit.\u001b[39;00m\n\u001b[1;32m    931\u001b[0m \u001b[39m\"\"\"\u001b[39;00m\n\u001b[1;32m    932\u001b[0m \u001b[39m# We don't use `to_value` below since we always want to make a copy\u001b[39;00m\n\u001b[1;32m    933\u001b[0m \u001b[39m# and don't want to slow down this method (esp. the scalar case).\u001b[39;00m\n\u001b[0;32m--> 934\u001b[0m unit \u001b[39m=\u001b[39m Unit(unit)\n\u001b[1;32m    935\u001b[0m \u001b[39mif\u001b[39;00m copy:\n\u001b[1;32m    936\u001b[0m     \u001b[39m# Avoid using to_value to ensure that we make a copy. We also\u001b[39;00m\n\u001b[1;32m    937\u001b[0m     \u001b[39m# don't want to slow down this method (esp. the scalar case).\u001b[39;00m\n\u001b[1;32m    938\u001b[0m     value \u001b[39m=\u001b[39m \u001b[39mself\u001b[39m\u001b[39m.\u001b[39m_to_value(unit, equivalencies)\n",
      "File \u001b[0;32m~/.pyenv/versions/3.11.4/lib/python3.11/site-packages/astropy/units/core.py:2142\u001b[0m, in \u001b[0;36m_UnitMetaClass.__call__\u001b[0;34m(self, s, represents, format, namespace, doc, parse_strict)\u001b[0m\n\u001b[1;32m   2139\u001b[0m     \u001b[39mraise\u001b[39;00m \u001b[39mTypeError\u001b[39;00m(\u001b[39m\"\u001b[39m\u001b[39mNone is not a valid Unit\u001b[39m\u001b[39m\"\u001b[39m)\n\u001b[1;32m   2141\u001b[0m \u001b[39melse\u001b[39;00m:\n\u001b[0;32m-> 2142\u001b[0m     \u001b[39mraise\u001b[39;00m \u001b[39mTypeError\u001b[39;00m(\u001b[39mf\u001b[39m\u001b[39m\"\u001b[39m\u001b[39m{\u001b[39;00ms\u001b[39m}\u001b[39;00m\u001b[39m can not be converted to a Unit\u001b[39m\u001b[39m\"\u001b[39m)\n",
      "\u001b[0;31mTypeError\u001b[0m: [(Unit(\"redshift\"), Unit(\"km / (Mpc s)\"), <function redshift_hubble.<locals>.z_to_hubble at 0x309f24a40>, <function redshift_hubble.<locals>.hubble_to_z at 0x309f24180>), (Unit(\"redshift\"), Unit(\"littleh\"), <function redshift_hubble.<locals>.z_to_littleh at 0x309f24cc0>, <function redshift_hubble.<locals>.littleh_to_z at 0x309f24fe0>), (Unit(\"redshift\"), Unit(\"K\"), <function redshift_temperature.<locals>.z_to_Tcmb at 0x309f24d60>, <function redshift_temperature.<locals>.Tcmb_to_z at 0x309f25120>), (Unit(\"redshift\"), Unit(\"Mpc\"), <function redshift_distance.<locals>.z_to_distance at 0x309f25580>, <function redshift_distance.<locals>.distance_to_z at 0x309f25620>)] can not be converted to a Unit"
     ]
    }
   ],
   "source": [
    "import astropy.units as u\n",
    "import astropy.cosmology.units as cu\n",
    "from astropy.cosmology import WMAP9\n",
    "z = 1100 * cu.redshift\n",
    "z.to(cu.with_redshift(WMAP9), u.year)"
   ]
  },
  {
   "cell_type": "code",
   "execution_count": null,
   "metadata": {},
   "outputs": [],
   "source": []
  }
 ],
 "metadata": {
  "kernelspec": {
   "display_name": "Python 3",
   "language": "python",
   "name": "python3"
  },
  "language_info": {
   "codemirror_mode": {
    "name": "ipython",
    "version": 3
   },
   "file_extension": ".py",
   "mimetype": "text/x-python",
   "name": "python",
   "nbconvert_exporter": "python",
   "pygments_lexer": "ipython3",
   "version": "3.11.4"
  }
 },
 "nbformat": 4,
 "nbformat_minor": 2
}
