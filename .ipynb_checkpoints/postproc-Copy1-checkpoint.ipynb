{
 "cells": [
  {
   "cell_type": "code",
   "execution_count": 1,
   "metadata": {},
   "outputs": [],
   "source": [
    "import numpy as np \n",
    "import matplotlib.pyplot as plt \n",
    "from tqdm import tqdm\n",
    "from glob import glob"
   ]
  },
  {
   "cell_type": "markdown",
   "metadata": {},
   "source": [
    "Loading Ehist Files"
   ]
  },
  {
   "cell_type": "code",
   "execution_count": 2,
   "metadata": {},
   "outputs": [],
   "source": [
    "# indir = \"/home/algernon/Outputfiles-arch\"\n",
    "# ehists = []\n",
    "# filenames = glob(indir+\"/EvoHist*\")\n",
    "# with tqdm(total=len(filenames)) as pbar:\n",
    "#     for filename in filenames:\n",
    "#         ehists.append(np.load(filename, allow_pickle=True)['arr_0'])\n",
    "#         pbar.update()\n",
    "\n",
    "# np.savez_compressed(\"ehists\", ehists)\n",
    "# len(ehists)"
   ]
  },
  {
   "cell_type": "code",
   "execution_count": 3,
   "metadata": {},
   "outputs": [],
   "source": [
    "ehists = np.load(\"ehists_all.npz\", allow_pickle=True)['arr_0']"
   ]
  },
  {
   "cell_type": "code",
   "execution_count": 4,
   "metadata": {},
   "outputs": [
    {
     "name": "stdout",
     "output_type": "stream",
     "text": [
      "[4.23000000e+02 0.00000000e+00 1.70496408e+04 7.29596887e+00\n",
      " 3.27594151e+00 1.00000000e+00 0.00000000e+00 4.69066866e+00\n",
      " 2.54158796e+00 1.00000000e+00 0.00000000e+00 0.00000000e+00\n",
      " 0.00000000e+00 0.00000000e+00 1.56518642e+08 0.00000000e+00\n",
      " 0.00000000e+00 0.00000000e+00]\n"
     ]
    }
   ],
   "source": [
    "for ehist in ehists:\n",
    "    for row in ehist:\n",
    "        print(row)\n",
    "        break\n",
    "    break"
   ]
  },
  {
   "cell_type": "code",
   "execution_count": null,
   "metadata": {},
   "outputs": [],
   "source": []
  }
 ],
 "metadata": {
  "interpreter": {
   "hash": "1666ace7c793a37561abc3ad70c7c9f8df9cef9fe0341333e51673c6ad50b306"
  },
  "kernelspec": {
   "display_name": "Python 3",
   "language": "python",
   "name": "python3"
  },
  "language_info": {
   "codemirror_mode": {
    "name": "ipython",
    "version": 3
   },
   "file_extension": ".py",
   "mimetype": "text/x-python",
   "name": "python",
   "nbconvert_exporter": "python",
   "pygments_lexer": "ipython3",
   "version": "3.9.5"
  }
 },
 "nbformat": 4,
 "nbformat_minor": 4
}
